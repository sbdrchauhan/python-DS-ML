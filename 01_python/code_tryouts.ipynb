{
 "cells": [
  {
   "cell_type": "code",
   "execution_count": 1,
   "id": "01430ce2-f0af-4daf-82a2-73cd4cc287ef",
   "metadata": {},
   "outputs": [
    {
     "data": {
      "text/plain": [
       "[('Argentina', 'Messi', 200),\n",
       " ('Portugal', 'Ronaldo', 300),\n",
       " ('France', 'Mbappe', 250),\n",
       " ('Brazi', 'Neymar', 400)]"
      ]
     },
     "execution_count": 1,
     "metadata": {},
     "output_type": "execute_result"
    }
   ],
   "source": [
    "country = ['Argentina', 'Portugal', 'France', 'Brazi']\n",
    "player = ['Messi', 'Ronaldo', 'Mbappe', 'Neymar']\n",
    "goals = [200, 300, 250, 400]\n",
    "combined_data = list(zip(country, player, goals))\n",
    "combined_data"
   ]
  },
  {
   "cell_type": "code",
   "execution_count": null,
   "id": "18653337-f8d3-4cc2-b847-0949e536ed9a",
   "metadata": {},
   "outputs": [],
   "source": [
    "c,p,g = "
   ]
  },
  {
   "cell_type": "code",
   "execution_count": 2,
   "id": "2049789b-bc9e-4e2d-ad28-6641ef8dcf86",
   "metadata": {},
   "outputs": [
    {
     "data": {
      "text/plain": [
       "<zip at 0x7f75a830b040>"
      ]
     },
     "execution_count": 2,
     "metadata": {},
     "output_type": "execute_result"
    }
   ],
   "source": [
    "zip(country,player)"
   ]
  },
  {
   "cell_type": "code",
   "execution_count": 6,
   "id": "e2a92586-7fda-46ca-a104-3803ca097072",
   "metadata": {},
   "outputs": [],
   "source": [
    "c,p,g = zip(*combined_data)"
   ]
  },
  {
   "cell_type": "code",
   "execution_count": 7,
   "id": "21102520-7dd8-498d-98de-a251f45fe55a",
   "metadata": {},
   "outputs": [
    {
     "data": {
      "text/plain": [
       "('Argentina', 'Portugal', 'France', 'Brazi')"
      ]
     },
     "execution_count": 7,
     "metadata": {},
     "output_type": "execute_result"
    }
   ],
   "source": [
    "c"
   ]
  },
  {
   "cell_type": "code",
   "execution_count": 8,
   "id": "1593bf10-ccef-45d7-8267-178f602a9933",
   "metadata": {},
   "outputs": [],
   "source": [
    "import heapq"
   ]
  },
  {
   "cell_type": "code",
   "execution_count": 14,
   "id": "e28f257e-1563-400e-ac5f-42271b088689",
   "metadata": {},
   "outputs": [],
   "source": [
    "values = [1,2,3,106,101,102]"
   ]
  },
  {
   "cell_type": "code",
   "execution_count": 15,
   "id": "3648d8af-5d38-4ac7-8f97-6e01ada62c2c",
   "metadata": {},
   "outputs": [
    {
     "name": "stdout",
     "output_type": "stream",
     "text": [
      "[106, 102, 101]\n"
     ]
    }
   ],
   "source": [
    "print(heapq.nlargest(3,values))"
   ]
  },
  {
   "cell_type": "code",
   "execution_count": 16,
   "id": "bc8b5fc0-e1aa-43ec-9efe-2fd593059977",
   "metadata": {},
   "outputs": [
    {
     "name": "stdout",
     "output_type": "stream",
     "text": [
      "[1, 2, 3, 101]\n"
     ]
    }
   ],
   "source": [
    "print(heapq.nsmallest(4, values))"
   ]
  },
  {
   "cell_type": "code",
   "execution_count": 17,
   "id": "396f6226-ebea-4602-8ac9-853e2154efab",
   "metadata": {},
   "outputs": [],
   "source": [
    "values = [True, True, True]\n",
    "alt_values = [False, False, True]"
   ]
  },
  {
   "cell_type": "code",
   "execution_count": 18,
   "id": "f4eb21f0-2a75-40b0-90f1-20e7e87cc07a",
   "metadata": {},
   "outputs": [
    {
     "name": "stdout",
     "output_type": "stream",
     "text": [
      "True\n",
      "True\n"
     ]
    }
   ],
   "source": [
    "print(any(values))\n",
    "print(any(alt_values))"
   ]
  },
  {
   "cell_type": "code",
   "execution_count": 19,
   "id": "0beb90f8-ddf8-46f2-b89b-130200bf1897",
   "metadata": {},
   "outputs": [
    {
     "name": "stdout",
     "output_type": "stream",
     "text": [
      "True\n",
      "False\n"
     ]
    }
   ],
   "source": [
    "print(all(values))\n",
    "print(all(alt_values))"
   ]
  },
  {
   "cell_type": "code",
   "execution_count": 20,
   "id": "987268cd-d135-45ba-8438-13623b55831c",
   "metadata": {},
   "outputs": [
    {
     "data": {
      "text/plain": [
       "['Messi', 'Ronaldo', 'Mbappe', 'Neymar']"
      ]
     },
     "execution_count": 20,
     "metadata": {},
     "output_type": "execute_result"
    }
   ],
   "source": [
    "player"
   ]
  },
  {
   "cell_type": "code",
   "execution_count": 26,
   "id": "aa2a388a-b2d8-4b50-abde-d737b8642289",
   "metadata": {},
   "outputs": [
    {
     "name": "stdout",
     "output_type": "stream",
     "text": [
      "1. Messi\n",
      "2. Ronaldo\n",
      "3. Mbappe\n",
      "4. Neymar\n"
     ]
    }
   ],
   "source": [
    "for counter, name in enumerate(player, start=1):\n",
    "    print(f\"{counter}. {name}\")"
   ]
  },
  {
   "cell_type": "code",
   "execution_count": 27,
   "id": "aac152ef-68e4-45f4-bded-4121d30dad0e",
   "metadata": {},
   "outputs": [
    {
     "name": "stdout",
     "output_type": "stream",
     "text": [
      "Hello my name is Shyam\n"
     ]
    }
   ],
   "source": [
    "intro = [\"Hello\", \"my\", \"name\", \"is\", \"Shyam\"]\n",
    "combined_string = \" \".join(intro)\n",
    "print(combined_string)"
   ]
  },
  {
   "cell_type": "code",
   "execution_count": null,
   "id": "1db74c63-0905-495a-b015-9467091d1129",
   "metadata": {},
   "outputs": [],
   "source": []
  }
 ],
 "metadata": {
  "kernelspec": {
   "display_name": "Python 3 (ipykernel)",
   "language": "python",
   "name": "python3"
  },
  "language_info": {
   "codemirror_mode": {
    "name": "ipython",
    "version": 3
   },
   "file_extension": ".py",
   "mimetype": "text/x-python",
   "name": "python",
   "nbconvert_exporter": "python",
   "pygments_lexer": "ipython3",
   "version": "3.8.10"
  }
 },
 "nbformat": 4,
 "nbformat_minor": 5
}
