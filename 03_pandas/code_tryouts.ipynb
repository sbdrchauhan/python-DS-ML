{
 "cells": [
  {
   "cell_type": "code",
   "execution_count": 1,
   "id": "58a93eed-5f85-4218-82c4-4ec767a264de",
   "metadata": {},
   "outputs": [],
   "source": [
    "import pandas as pd\n",
    "import numpy as np"
   ]
  },
  {
   "cell_type": "code",
   "execution_count": 3,
   "id": "2358465e-6306-4aa4-b5eb-c99d8cd5d621",
   "metadata": {},
   "outputs": [
    {
     "name": "stdout",
     "output_type": "stream",
     "text": [
      "   col1  col2\n",
      "0     1     2\n",
      "1     3     4\n"
     ]
    }
   ],
   "source": [
    "# create your first dataframe (df)\n",
    "df = pd.DataFrame(\n",
    "    np.array([\n",
    "        [1,2],\n",
    "        [3,4]\n",
    "    ]),\n",
    "    columns=['col1', 'col2']\n",
    ")\n",
    "print(df)"
   ]
  },
  {
   "cell_type": "code",
   "execution_count": 4,
   "id": "42afc458-5713-4e61-bbe9-fde4ef0999fc",
   "metadata": {},
   "outputs": [
    {
     "name": "stdout",
     "output_type": "stream",
     "text": [
      "a    1\n",
      "b    2\n",
      "c    3\n",
      "d    4\n",
      "dtype: int64\n"
     ]
    }
   ],
   "source": [
    "import pandas as pd\n",
    "\n",
    "pandas_series = pd.Series(\n",
    "    [1, 2, 3, 4],  # Python list\n",
    "    index=[\"a\", \"b\", \"c\", \"d\"]  # Python list\n",
    ")\n",
    "print(pandas_series)"
   ]
  },
  {
   "cell_type": "code",
   "execution_count": null,
   "id": "de7ab069-9193-43bd-9672-63cf5e5366be",
   "metadata": {},
   "outputs": [],
   "source": []
  }
 ],
 "metadata": {
  "kernelspec": {
   "display_name": "Python 3 (ipykernel)",
   "language": "python",
   "name": "python3"
  },
  "language_info": {
   "codemirror_mode": {
    "name": "ipython",
    "version": 3
   },
   "file_extension": ".py",
   "mimetype": "text/x-python",
   "name": "python",
   "nbconvert_exporter": "python",
   "pygments_lexer": "ipython3",
   "version": "3.8.10"
  }
 },
 "nbformat": 4,
 "nbformat_minor": 5
}
